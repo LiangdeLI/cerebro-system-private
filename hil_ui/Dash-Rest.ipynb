{
 "cells": [
  {
   "cell_type": "code",
   "execution_count": 1,
   "metadata": {},
   "outputs": [],
   "source": [
    "import dash\n",
    "import dash_core_components as dcc\n",
    "import dash_html_components as html\n",
    "import dash_bootstrap_components as dbc\n",
    "from dash.dependencies import Input, Output, State\n",
    "import dash_table\n",
    "import pandas as pd\n",
    "from collections import OrderedDict\n",
    "import os\n",
    "import json\n",
    "import requests"
   ]
  },
  {
   "cell_type": "code",
   "execution_count": 2,
   "metadata": {},
   "outputs": [],
   "source": [
    "app = dash.Dash(__name__, external_stylesheets=[dbc.themes.BOOTSTRAP, './style.css'],\n",
    "                    meta_tags=[{'name': 'viewport',\n",
    "                            'content': 'width=device-width, initial-scale=1.0'}])"
   ]
  },
  {
   "cell_type": "code",
   "execution_count": 3,
   "metadata": {},
   "outputs": [],
   "source": [
    "pop_model_params = {}\n",
    "pop_model_params['LogReg'] = [{\"name\": \"LogReg-\", \"description\": \"Using logistic regression to \", \n",
    "                               \"model_selection_algorithm\": \"GridSearch\", \"executable_entrypoint\": },\n",
    "                              \n",
    "                              {'name': 'Learning Rate', 'param_type': 'hp_loguniform', 'choices': 'None', \n",
    "                               'min': -4, 'max': 1, 'q': 'None', 'dtype': 'dtype_float'},\n",
    "                              \n",
    "                              {'name': 'Batch Size', 'param_type': 'hp_quniform', 'choices': 'None', \n",
    "                               'min': 16, 'max': 256, 'q': 16, 'dtype': 'dtype_int'},\n",
    "                              \n",
    "                              {'name': 'Regularization Type', 'param_type': 'hp_choice', 'choices': 'l1,l2', \n",
    "                               'min': 'None', 'max': 'None', 'q': 'None', 'dtype': 'dtype_str'},\n",
    "                             \n",
    "                              {'name': 'Regularization Strength', 'param_type': 'hp_loguniform', 'choices': 'None', \n",
    "                               'min': -3, 'max': 1, 'q': 'None', 'dtype': 'dtype_float'}]\n",
    "\n",
    "pop_model_params['MLP'] = [{\"name\": \"MLP-\", \"description\": \"Using multilayer perceptron to \", \n",
    "                               \"model_selection_algorithm\": \"GridSearch\"},\n",
    "                              \n",
    "                              {'name': 'Learning Rate', 'param_type': 'hp_loguniform', 'choices': 'None', \n",
    "                               'min': -4, 'max': 1, 'q': 'None', 'dtype': 'dtype_float'},\n",
    "                              \n",
    "                              {'name': 'Batch Size', 'param_type': 'hp_quniform', 'choices': 'None', \n",
    "                               'min': 16, 'max': 256, 'q': 16, 'dtype': 'dtype_int'},\n",
    "                              \n",
    "                              {'name': 'Regularization Type', 'param_type': 'hp_choice', 'choices': 'l1,l2', \n",
    "                               'min': 'None', 'max': 'None', 'q': 'None', 'dtype': 'dtype_str'},\n",
    "                             \n",
    "                              {'name': 'Regularization Strength', 'param_type': 'hp_loguniform', 'choices': 'None', \n",
    "                               'min': -3, 'max': 1, 'q': 'None', 'dtype': 'dtype_float'},\n",
    "                          \n",
    "                              {'name': 'Drop Out', 'param_type': 'uniform', 'choices': 'None', \n",
    "                               'min': 0.0, 'max': 0.5, 'q': 'None', 'dtype': 'dtype_float'}]\n",
    "\n",
    "pop_model_params['CNN'] = [{\"name\": \"CNN-\", \"description\": \"Using convolutional neural network to \", \n",
    "                               \"model_selection_algorithm\": \"GridSearch\"},\n",
    "                              \n",
    "                              {'name': 'Learning Rate', 'param_type': 'hp_loguniform', 'choices': 'None', \n",
    "                               'min': -4, 'max': 1, 'q': 'None', 'dtype': 'dtype_float'},\n",
    "                              \n",
    "                              {'name': 'Batch Size', 'param_type': 'hp_quniform', 'choices': 'None', \n",
    "                               'min': 16, 'max': 256, 'q': 16, 'dtype': 'dtype_int'},\n",
    "                              \n",
    "                              {'name': 'Regularization Type', 'param_type': 'hp_choice', 'choices': 'l1,l2', \n",
    "                               'min': 'None', 'max': 'None', 'q': 'None', 'dtype': 'dtype_str'},\n",
    "                             \n",
    "                              {'name': 'Regularization Strength', 'param_type': 'hp_loguniform', 'choices': 'None', \n",
    "                               'min': -3, 'max': 1, 'q': 'None', 'dtype': 'dtype_float'},\n",
    "                          \n",
    "                              {'name': 'Drop Out', 'param_type': 'uniform', 'choices': 'None', \n",
    "                               'min': 0.0, 'max': 0.5, 'q': 'None', 'dtype': 'dtype_float'}]\n",
    "\n",
    "pop_model_params['ResNet'] = [{\"name\": \"ResNet-\", \"description\": \"Using ResNet to \", \n",
    "                               \"model_selection_algorithm\": \"GridSearch\"},\n",
    "                              \n",
    "                              {'name': 'Learning Rate', 'param_type': 'hp_loguniform', 'choices': 'None', \n",
    "                               'min': -4, 'max': 1, 'q': 'None', 'dtype': 'dtype_float'},\n",
    "                              \n",
    "                              {'name': 'Batch Size', 'param_type': 'hp_quniform', 'choices': 'None', \n",
    "                               'min': 16, 'max': 256, 'q': 16, 'dtype': 'dtype_int'},\n",
    "                             \n",
    "                              {'name': 'Drop Out', 'param_type': 'uniform', 'choices': 'None', \n",
    "                               'min': 0.0, 'max': 0.5, 'q': 'None', 'dtype': 'dtype_float'}]\n",
    "\n",
    "pop_model_params['Bert'] = [{\"name\": \"Bert-\", \"description\": \"Using distill BERT to \", \n",
    "                               \"model_selection_algorithm\": \"GridSearch\"},\n",
    "                              \n",
    "                              {'name': 'Learning Rate', 'param_type': 'hp_loguniform', 'choices': 'None', \n",
    "                               'min': -4, 'max': 1, 'q': 'None', 'dtype': 'dtype_float'},\n",
    "                              \n",
    "                              {'name': 'Batch Size', 'param_type': 'hp_quniform', 'choices': 'None', \n",
    "                               'min': 16, 'max': 256, 'q': 16, 'dtype': 'dtype_int'}]\n"
   ]
  },
  {
   "cell_type": "code",
   "execution_count": 4,
   "metadata": {},
   "outputs": [],
   "source": [
    "sample_model = [{'name': 'model', 'lr': '1', 'C': '1', 'penalty': 'l1'},\n",
    "                {'name': 'mode2', 'lr': '1', 'C': '1', 'penalty': 'l2'},\n",
    "                {'name': 'mode3', 'lr': '1', 'C': '0.1', 'penalty': 'l1'},\n",
    "                {'name': 'mode4', 'lr': '1', 'C': '0.1', 'penalty': 'l2'},\n",
    "                {'name': 'mode5', 'lr': '0.1', 'C': '1', 'penalty': 'l1'},\n",
    "                {'name': 'mode6', 'lr': '0.1', 'C': '1', 'penalty': 'l2'},\n",
    "                {'name': 'mode7', 'lr': '0.1', 'C': '0.1', 'penalty': 'l1'},\n",
    "                {'name': 'mode8', 'lr': '0.1', 'C': '0.1', 'penalty': 'l2'}]"
   ]
  },
  {
   "cell_type": "code",
   "execution_count": 5,
   "metadata": {},
   "outputs": [],
   "source": [
    "models = [{'Act': 'None', 'Clone': 'Clone', 'name': 'model 1', 'lr': '1'},\n",
    "          {'Act': 'None', 'Clone': 'Clone', 'name': 'model 2', 'lr': '0.1'},\n",
    "          {'Act': 'None', 'Clone': 'Clone', 'name': 'model 3', 'lr': '0.01'},\n",
    "          {'Act': 'None', 'Clone': 'Clone', 'name': 'model 4', 'lr': '0.001'}]"
   ]
  },
  {
   "cell_type": "code",
   "execution_count": 6,
   "metadata": {},
   "outputs": [],
   "source": [
    "EXPERIMENT_ELEMENT = (\n",
    "    \"name\", \"description\", \"model_selection_algorithm\", \"max_num_models\", \"feature_columns\", \"label_columns\", \n",
    "    \"max_train_epochs\", \"data_store_prefix_path\", \"executable_entrypoint\"\n",
    ")\n",
    "EXPERIMENT_TYPE = (\n",
    "    \"string\", \"string\", \"string\", \"string\", \"string\", \"int\", \"string\", \"string\"\n",
    ")\n",
    "describe_list = (\n",
    "    \"Name of experiment (string type)\", \n",
    "    \"Description (optional)\", \n",
    "    \"Hyperparameters search strategy (string type)\",\n",
    "    \"Name of features (string type, comma seperated)\", \n",
    "    \"Name of label (string type)\", \n",
    "    \"Maximum training epochs (integer type)\",\n",
    "    \"Prefix training data path (string type)\", \n",
    "    \"Estimator function name (<module_name>:<function_name>)\"\n",
    ")"
   ]
  },
  {
   "cell_type": "code",
   "execution_count": 7,
   "metadata": {},
   "outputs": [],
   "source": [
    "# App layout\n",
    "app.layout = dbc.Container([\n",
    "\n",
    "    dbc.Navbar(\n",
    "        [\n",
    "            # Use row and col to control vertical alignment of logo / brand\n",
    "            dbc.Row(\n",
    "                [dbc.Col(dbc.NavbarBrand(\"Human In Loop Cerebro Training\", className=\"ml-2\"))],\n",
    "                align=\"center\",\n",
    "                no_gutters=True,\n",
    "            )\n",
    "        ],\n",
    "        color=\"dark\",\n",
    "        dark=True, style = {'width': '100%'}\n",
    "    ),\n",
    "    \n",
    "#     dbc.Row( dbc.Col(html.H1(\"Human In Loop Cerebro Training\", className='text-center'))),\n",
    "\n",
    "#     html.Hr(),\n",
    "    \n",
    "    # *************************************************************************************************\n",
    "    #\n",
    "    #     Model selection section\n",
    "    #\n",
    "    # *************************************************************************************************\n",
    "    \n",
    "    dbc.Row([dbc.Col(html.H3(\"Upload a model script file OR choose a popular model\", className='text-center'))]),\n",
    "    \n",
    "    dbc.Row( [\n",
    "        dbc.Col(\n",
    "            dcc.Upload(\n",
    "                id='upload-script',\n",
    "                children = ['Drag and Drop or ',\n",
    "                    html.A('Select a File', style ={ 'text-decoration': 'underline'})\n",
    "                ], \n",
    "                style={\n",
    "                    'width': '100%',\n",
    "                    'height': '130px',\n",
    "                    'lineHeight': '60px',\n",
    "                    'borderWidth': '1px',\n",
    "                    'borderStyle': 'dashed',\n",
    "                    'borderRadius': '5px',\n",
    "                    'textAlign': 'center'\n",
    "                },\n",
    "                multiple=True\n",
    "            ),\n",
    "            className='column_left'\n",
    "        ), \n",
    "        dbc.Col([\n",
    "            html.H6(\"Select a popular model:\"),\n",
    "            dcc.Dropdown(id=\"slct_pop_model\",\n",
    "                 options=[\n",
    "                     {\"label\": \"Logistic Regression\", \"value\": \"LogReg\"},\n",
    "                     {\"label\": \"MLP\", \"value\": \"MLP\"},\n",
    "                     {\"label\": \"CNN\", \"value\": \"CNN\"},\n",
    "                     {\"label\": \"ResNet-50\", \"value\": \"ResNet\"},\n",
    "                     {\"label\": \"DistillBERT\", \"value\": \"Bert\"}],\n",
    "                 multi=False,\n",
    "                 value=\"LogReg\"\n",
    "            ),\n",
    "            html.Button('Select this model', id='slct_model', n_clicks=0, style={\"margin-top\": \"15px\"})\n",
    "        ])\n",
    "    ]),\n",
    "    \n",
    "    html.Div(id='script_response', children=[]),\n",
    "    \n",
    "    html.Hr(),\n",
    "    \n",
    "    # *************************************************************************************************\n",
    "    #\n",
    "    #     Experiment setup section\n",
    "    #\n",
    "    # *************************************************************************************************\n",
    "    \n",
    "    html.H3(\"Setup experiment\"),\n",
    "    \n",
    "    dbc.Row([\n",
    "        dbc.Col(\n",
    "            [\n",
    "                dbc.Row([html.Div(Describe)]) for Describe in describe_list\n",
    "            ], width=8\n",
    "        ),\n",
    "        dbc.Col(\n",
    "            [ \n",
    "                dbc.Row([dcc.Input(\n",
    "                    id=\"exp_{}\".format(e),\n",
    "                    type=t,\n",
    "                    placeholder=\"{}:({})\".format(e,t),\n",
    "                    style={\n",
    "                    'width': '200px',\n",
    "                    'height': '25px'}\n",
    "                )])\n",
    "                for e,t in zip(EXPERIMENT_ELEMENT,EXPERIMENT_TYPE)\n",
    "            ], width=4\n",
    "        )\n",
    "    ]),\n",
    "        \n",
    "    html.H5(\"Hyperparameter grid table:\"),\n",
    "      \n",
    "    dash_table.DataTable(\n",
    "        id='datatable-params',\n",
    "        data=pop_model_params['LogReg'],\n",
    "        columns=[\n",
    "            {\"name\": 'Name', 'id': 'name', \"selectable\": True},\n",
    "            {\"name\": \"Hyperparameter Type\", \"id\": \"param_type\", 'presentation': 'dropdown'},\n",
    "            {\"name\": \"Choices\", \"id\": \"choices\", \"selectable\": True},\n",
    "            {\"name\": \"Min Value\", \"id\": \"min\", \"selectable\": True},\n",
    "            {\"name\": \"Max Value\", \"id\": \"max\", \"selectable\": True},\n",
    "            {\"name\": \"Sample Number\", \"id\": \"q\", \"selectable\": True},\n",
    "            {\"name\": \"Data Type\", \"id\": \"dtype\", 'presentation': 'dropdown'}\n",
    "        ],\n",
    "        editable=True,\n",
    "        filter_action=\"native\",     # allow filtering of data by user ('native') or not ('none')\n",
    "        page_current=0,             # page number that user is on\n",
    "        page_size=20,                # number of rows visible per page\n",
    "        style_cell={                # ensure adequate header width when text is shorter than cell's text\n",
    "            'width': 'auto', 'height': 'auto', #'whiteSpace': 'normal'\n",
    "        },\n",
    "        style_cell_conditional=[    # align text columns to left. By default they are aligned to right\n",
    "            {\n",
    "                'if': {'column_id': c},\n",
    "                'textAlign': 'left'\n",
    "            } for c in ['name', 'param_type', \"choices\", \"min\", \"max\", \"q\", \"dtype\"]\n",
    "        ],\n",
    "        style_data={                # overflow cells' content into multiple lines\n",
    "            'whiteSpace': 'normal',\n",
    "            'height': 'auto'\n",
    "        },\n",
    "        dropdown={\n",
    "            'param_type': {\n",
    "                'options': [\n",
    "                    {'label': 'categorical', 'value': 'hp_choice'},\n",
    "                    {'label': 'uniform', 'value': 'hp_uniform'},\n",
    "                    {'label': 'quantum uniform', 'value': 'hp_quniform'},\n",
    "                    {'label': 'log uniform', 'value': 'hp_loguniform'},\n",
    "                    {'label': 'quantum log uniform', 'value': 'hp_qloguniform'}\n",
    "                ],\n",
    "                'value':'hp_choice'\n",
    "            },\n",
    "            'dtype': {\n",
    "                'options': [\n",
    "                    {'label': 'string', 'value': 'dtype_str'},\n",
    "                    {'label': 'integer', 'value': 'dtype_int'},\n",
    "                    {'label': 'float', 'value': 'dtype_float'}\n",
    "                ],\n",
    "                'value':'dtype_str'\n",
    "            }\n",
    "        }\n",
    "    ),    \n",
    "    \n",
    "    html.Button('Add New Parameter', id='add_param', n_clicks=0),\n",
    "        \n",
    "    html.H5(\"Please check info above and launch the experiment by clicking the button below:\"),\n",
    "    html.Button('Launch This Experiment', id='add_exp', n_clicks=0, \n",
    "                    style = {'height': '40px', 'textAlign': 'center',\n",
    "                             'color': 'white', 'background-color': 'DeepSkyBlue', 'font-weight': 'bold'}),      \n",
    "    html.Div(id='param_output', children=[]),\n",
    "    html.Hr(),\n",
    " \n",
    "    # *************************************************************************************************\n",
    "    #\n",
    "    #     Models inspection section\n",
    "    #\n",
    "    # *************************************************************************************************\n",
    "    \n",
    "    html.H3(\"Models\"),\n",
    "      \n",
    "    dbc.Row([\n",
    "        dbc.Col(\n",
    "            [dbc.Row(html.H5(\"Action\"), style={\"margin-top\": \"15px\", \"margin-bottom\": \"18px\"})]\n",
    "            +\n",
    "            [\n",
    "                dbc.Row([html.Button('Resume', id='resume_{}'.format(m['name']), n_clicks=0),\n",
    "                         html.Button('Delete', id='delete_{}'.format(m['name']), n_clicks=0),\n",
    "                         html.Button('Stop', id='stop_{}'.format(m['name']), n_clicks=0),\n",
    "                         html.Button('Clone', id='clone_{}'.format(m['name']), n_clicks=0)]) for m in sample_model\n",
    "            ]\n",
    "        ),\n",
    "        dbc.Col(\n",
    "            dash_table.DataTable(\n",
    "                id='datatable-interactivity',\n",
    "                data=sample_model,\n",
    "                columns=[\n",
    "                    {\"name\": \"Model Name\", \"id\": \"name\", \"selectable\": True },\n",
    "                    {\"name\": \"Lr\", \"id\": \"lr\", \"selectable\": True},\n",
    "                    {\"name\": 'Penalty', 'id': 'penalty', \"selectable\": True},\n",
    "                    {\"name\": 'C', 'id': 'C', \"selectable\": True}\n",
    "                ],\n",
    "                editable=True,\n",
    "                filter_action=\"native\",     # allow filtering of data by user ('native') or not ('none')\n",
    "                page_current=0,             # page number that user is on\n",
    "                page_size=10,                # number of rows visible per page\n",
    "                style_cell={                # ensure adequate header width when text is shorter than cell's text\n",
    "                    'minWidth': 95, 'maxWidth': 95, 'width': 95\n",
    "                },\n",
    "                style_cell_conditional=[    # align text columns to left. By default they are aligned to right\n",
    "                    {\n",
    "                        'if': {'column_id': c},\n",
    "                        'textAlign': 'left'\n",
    "                    } for c in ['name', 'lr', 'penalty', 'C']\n",
    "                ],\n",
    "                style_data={                # overflow cells' content into multiple lines\n",
    "                    'whiteSpace': 'normal',\n",
    "                    'height': 'auto'\n",
    "                }\n",
    "            )\n",
    "        )\n",
    "    ]),\n",
    "    html.Br(),\n",
    "    \n",
    "    dcc.Input(id=\"model_id_to_change\", type=\"string\", placeholder=\"Model Name\",\n",
    "                    style={'width': '200px', 'height': '25px'}),\n",
    "    html.Br(),\n",
    "    dbc.Row([html.Button('Resume', id='resume_', n_clicks=0),\n",
    "                         html.Button('Delete', id='delete_', n_clicks=0),\n",
    "                         html.Button('Stop', id='stop_', n_clicks=0),\n",
    "                         html.Button('Clone', id='clone_', n_clicks=0)]),\n",
    "    \n",
    "    html.Hr(),\n",
    "    html.Iframe(src=\"http://localhost:6006/\", style={\"height\": \"1067px\", \"width\": \"100%\"}),\n",
    "    html.Hr(),\n",
    "    \n",
    "    html.H5(\"Please check info above and submit these model changes by clicking the button below:\"),\n",
    "    html.Button('Submit', id='submit-val', n_clicks=0,\n",
    "                   style = {'width': '150px', 'height': '40px', 'textAlign': 'center',\n",
    "                             'color': 'black', 'background-color': 'Chartreuse', 'font-weight': 'bold'}),\n",
    "    \n",
    "    html.Br(),\n",
    "    html.Div(id='output_container', children=[]),\n",
    "    html.Br(),\n",
    "\n",
    "])"
   ]
  },
  {
   "cell_type": "code",
   "execution_count": null,
   "metadata": {},
   "outputs": [],
   "source": []
  },
  {
   "cell_type": "code",
   "execution_count": 8,
   "metadata": {},
   "outputs": [],
   "source": [
    "@app.callback([Output('upload-script', 'contents'),\n",
    "              Output('script_response', 'children')],\n",
    "              Input('upload-script', 'contents'),\n",
    "              State('upload-script', 'filename'))\n",
    "def upload_script(list_of_contents, list_of_names):\n",
    "    printout = None\n",
    "    if list_of_contents is not None:\n",
    "        print(\"contents:\", list_of_contents)\n",
    "        print(\"filename:\", list_of_names)\n",
    "        script_post_url = \"http://localhost:8889/api/scripts/upload\"\n",
    "        r = requests.post(script_post_url, files={'file': list_of_contents[0]})\n",
    "        print(r)\n",
    "        printout = str(r)\n",
    "    return None, printout"
   ]
  },
  {
   "cell_type": "code",
   "execution_count": null,
   "metadata": {},
   "outputs": [],
   "source": []
  },
  {
   "cell_type": "code",
   "execution_count": 9,
   "metadata": {},
   "outputs": [],
   "source": [
    "@app.callback(\n",
    "    [Output(component_id='datatable-params', component_property='data'),\n",
    "     Output(component_id='add_param', component_property='n_clicks'), \n",
    "     Output(component_id='slct_model', component_property='n_clicks'),\n",
    "     Output(component_id='datatable-params', component_property='editable')],\n",
    "    [Input(component_id='add_param', component_property='n_clicks'),\n",
    "     Input(component_id='slct_model', component_property='n_clicks')],\n",
    "    [State('datatable-params', 'data'), State('datatable-params', 'editable'), State('slct_pop_model', 'value')]\n",
    ")\n",
    "def add_param(add_param_n_clicks, slct_model_n_click, data, editable, value):\n",
    "    print('Button has been clicked.')   \n",
    "    \n",
    "    if add_param_n_clicks > 0:\n",
    "        data.append({'param_name': 'name?', 'param_type': 'categorical', 'param_values': 'None', 'param_min_val': 0, \n",
    "                      'param_max_val': 0, 'param_count': 0, 'param_base': 0})\n",
    "    \n",
    "    if slct_model_n_click > 0:\n",
    "        data = pop_model_params[value]\n",
    "        editable = False\n",
    "        \n",
    "    return data, 0, 0, editable"
   ]
  },
  {
   "cell_type": "code",
   "execution_count": 10,
   "metadata": {},
   "outputs": [],
   "source": [
    "@app.callback(\n",
    "    [Output(component_id='datatable-interactivity', component_property='data'),\n",
    "     Output(component_id='datatable-interactivity', component_property='columns'),\n",
    "     Output(component_id='add_exp', component_property='n_clicks')],\n",
    "    [Input(component_id='add_exp', component_property='n_clicks')],\n",
    "    [State('datatable-params', 'data'), State(component_id='datatable-interactivity', component_property='data'),\n",
    "     State(component_id='datatable-interactivity', component_property='columns')]\n",
    ")\n",
    "def add_exp(n_clicks_add_exp, data, return_data, columns):\n",
    "    print('Button has been clicked.')\n",
    "    if n_clicks_add_exp > 0:\n",
    "        exp_post_url = \"http://localhost:8889/api/experiments/\"\n",
    "        r = requests.post(exp_post_url, json=payload)\n",
    "        print(r)\n",
    "        print(r.json())\n",
    "        return_data = models\n",
    "\n",
    "        columns=[\n",
    "            {\"name\": 'Action', 'id': 'Act', 'presentation': 'dropdown'},\n",
    "            {\"name\": 'Clone', 'id': 'Clone', 'presentation': 'button'},\n",
    "            {\"name\": \"Model Name\", \"id\": \"name\", \"selectable\": True},\n",
    "            {\"name\": \"Lr\", \"id\": \"lr\", \"selectable\": True}\n",
    "        ]\n",
    "        \n",
    "        \n",
    "    return [return_data, columns, 0]"
   ]
  },
  {
   "cell_type": "code",
   "execution_count": 11,
   "metadata": {},
   "outputs": [],
   "source": [
    "# Connect the Plotly graphs with Dash Components\n",
    "@app.callback(\n",
    "    Output(component_id='output_container', component_property='children'),\n",
    "    [Input(component_id='submit-val', component_property='n_clicks')],\n",
    "    [State('num_epoch', 'value'), State('datatable-interactivity', 'data')]\n",
    ")\n",
    "def update_models(n_clicks, value, data):\n",
    "    print('Button has been clicked.')\n",
    "    container = \"Button has been clicked {} time\".format(n_clicks)\n",
    "    if n_clicks > 0:\n",
    "        print(value)\n",
    "        print(type(value))\n",
    "        print(data)\n",
    "\n",
    "    return container"
   ]
  },
  {
   "cell_type": "code",
   "execution_count": null,
   "metadata": {},
   "outputs": [],
   "source": []
  },
  {
   "cell_type": "code",
   "execution_count": 12,
   "metadata": {},
   "outputs": [],
   "source": [
    "payload = {\n",
    "  \"name\": \"sample_svm\",\n",
    "  \"description\": \"sample of svm\",\n",
    "  \"param_defs\": [\n",
    "    {\n",
    "      \"name\": \"lr\",\n",
    "      \"param_type\": \"log\",\n",
    "      \"values\": \"string\",\n",
    "      \"min_val\": -3,\n",
    "      \"max_val\": 0,\n",
    "      \"count\": 4,\n",
    "      \"base\": 10\n",
    "    }\n",
    "  ],\n",
    "  \"feature_columns\": \"lr\",\n",
    "  \"label_columns\": \"0/1\",\n",
    "  \"max_train_epochs\": 10,\n",
    "  \"training_data_prefix_path\": \"/some_path\",\n",
    "  \"executable_entrypoint\": \"script:estimator_gen_fn\"\n",
    "}"
   ]
  },
  {
   "cell_type": "code",
   "execution_count": null,
   "metadata": {
    "scrolled": true
   },
   "outputs": [
    {
     "name": "stdout",
     "output_type": "stream",
     "text": [
      "Dash is running on http://127.0.0.1:8051/\n",
      "\n",
      " * Serving Flask app \"__main__\" (lazy loading)\n",
      " * Environment: production\n",
      "   WARNING: This is a development server. Do not use it in a production deployment.\n",
      "   Use a production WSGI server instead.\n",
      " * Debug mode: off\n"
     ]
    },
    {
     "name": "stderr",
     "output_type": "stream",
     "text": [
      " * Running on http://127.0.0.1:8051/ (Press CTRL+C to quit)\n",
      "127.0.0.1 - - [09/Mar/2021 18:08:05] \"\u001b[37mGET / HTTP/1.1\u001b[0m\" 200 -\n",
      "127.0.0.1 - - [09/Mar/2021 18:08:06] \"\u001b[37mGET /style.css HTTP/1.1\u001b[0m\" 200 -\n",
      "127.0.0.1 - - [09/Mar/2021 18:08:06] \"\u001b[37mGET /_dash-dependencies HTTP/1.1\u001b[0m\" 200 -\n",
      "127.0.0.1 - - [09/Mar/2021 18:08:06] \"\u001b[37mGET /_dash-layout HTTP/1.1\u001b[0m\" 200 -\n",
      "127.0.0.1 - - [09/Mar/2021 18:08:06] \"\u001b[37mGET /_favicon.ico?v=1.19.0 HTTP/1.1\u001b[0m\" 200 -\n",
      "127.0.0.1 - - [09/Mar/2021 18:08:06] \"\u001b[37mPOST /_dash-update-component HTTP/1.1\u001b[0m\" 200 -\n",
      "127.0.0.1 - - [09/Mar/2021 18:08:06] \"\u001b[37mPOST /_dash-update-component HTTP/1.1\u001b[0m\" 200 -\n",
      "127.0.0.1 - - [09/Mar/2021 18:08:06] \"\u001b[37mPOST /_dash-update-component HTTP/1.1\u001b[0m\" 200 -\n"
     ]
    },
    {
     "name": "stdout",
     "output_type": "stream",
     "text": [
      "Button has been clicked.\n",
      "Button has been clicked.\n"
     ]
    },
    {
     "name": "stderr",
     "output_type": "stream",
     "text": [
      "127.0.0.1 - - [09/Mar/2021 18:08:20] \"\u001b[37mPOST /_dash-update-component HTTP/1.1\u001b[0m\" 200 -\n"
     ]
    },
    {
     "name": "stdout",
     "output_type": "stream",
     "text": [
      "Button has been clicked.\n",
      "{'param_name': 'Learning Rate', 'param_type': 'log_uni', 'param_values': 'None', 'param_min_val': -4, 'param_max_val': 1, 'param_count': 6, 'param_base': 10}\n",
      "{'param_name': 'Batch Size', 'param_type': 'log_uni', 'param_values': 'None', 'param_min_val': 5, 'param_max_val': 8, 'param_count': 4, 'param_base': 2}\n",
      "{'param_name': 'Drop Out', 'param_type': 'uniform', 'param_values': 'None', 'param_min_val': 0.0, 'param_max_val': 0.5, 'param_count': 'None', 'param_base': 'None'}\n"
     ]
    },
    {
     "name": "stderr",
     "output_type": "stream",
     "text": [
      "127.0.0.1 - - [09/Mar/2021 18:09:18] \"\u001b[37mPOST /_dash-update-component HTTP/1.1\u001b[0m\" 200 -\n"
     ]
    },
    {
     "name": "stdout",
     "output_type": "stream",
     "text": [
      "Button has been clicked.\n",
      "{'param_name': 'Learning Rate', 'param_type': 'log_uni', 'param_values': 'None', 'param_min_val': -4, 'param_max_val': 1, 'param_count': 6, 'param_base': 10}\n",
      "{'param_name': 'Batch Size', 'param_type': 'log_uni', 'param_values': 'None', 'param_min_val': 5, 'param_max_val': 8, 'param_count': 4, 'param_base': 2}\n",
      "{'param_name': 'Regularization Type', 'param_type': 'categorical', 'param_values': 'l1,l2', 'param_min_val': 'None', 'param_max_val': 'None', 'param_count': 'None', 'param_base': 'None'}\n",
      "{'param_name': 'Regularization Strength', 'param_type': 'log_uni', 'param_values': 'None', 'param_min_val': -3, 'param_max_val': 1, 'param_count': 5, 'param_base': 10}\n",
      "{'param_name': 'Drop Out', 'param_type': 'uniform', 'param_values': 'None', 'param_min_val': 0.0, 'param_max_val': 0.5, 'param_count': 'None', 'param_base': 'None'}\n"
     ]
    },
    {
     "name": "stderr",
     "output_type": "stream",
     "text": [
      "127.0.0.1 - - [09/Mar/2021 18:09:32] \"\u001b[37mPOST /_dash-update-component HTTP/1.1\u001b[0m\" 200 -\n"
     ]
    },
    {
     "name": "stdout",
     "output_type": "stream",
     "text": [
      "Button has been clicked.\n",
      "{'param_name': 'Learning Rate', 'param_type': 'log_uni', 'param_values': 'None', 'param_min_val': -4, 'param_max_val': 1, 'param_count': 6, 'param_base': 10}\n",
      "{'param_name': 'Batch Size', 'param_type': 'log_uni', 'param_values': 'None', 'param_min_val': 5, 'param_max_val': 8, 'param_count': 4, 'param_base': 2}\n",
      "{'param_name': 'Regularization Type', 'param_type': 'categorical', 'param_values': 'l1,l2', 'param_min_val': 'None', 'param_max_val': 'None', 'param_count': 'None', 'param_base': 'None'}\n",
      "{'param_name': 'Regularization Strength', 'param_type': 'log_uni', 'param_values': 'None', 'param_min_val': -3, 'param_max_val': 1, 'param_count': 5, 'param_base': 10}\n",
      "{'param_name': 'Drop Out', 'param_type': 'uniform', 'param_values': 'None', 'param_min_val': 0.0, 'param_max_val': 0.5, 'param_count': 'None', 'param_base': 'None'}\n"
     ]
    },
    {
     "name": "stderr",
     "output_type": "stream",
     "text": [
      "127.0.0.1 - - [09/Mar/2021 18:09:34] \"\u001b[37mPOST /_dash-update-component HTTP/1.1\u001b[0m\" 200 -\n"
     ]
    },
    {
     "name": "stdout",
     "output_type": "stream",
     "text": [
      "Button has been clicked.\n",
      "{'param_name': 'Learning Rate', 'param_type': 'log_uni', 'param_values': 'None', 'param_min_val': -4, 'param_max_val': 1, 'param_count': 6, 'param_base': 10}\n",
      "{'param_name': 'Batch Size', 'param_type': 'log_uni', 'param_values': 'None', 'param_min_val': 5, 'param_max_val': 8, 'param_count': 4, 'param_base': 2}\n",
      "{'param_name': 'Regularization Type', 'param_type': 'categorical', 'param_values': 'l1,l2', 'param_min_val': 'None', 'param_max_val': 'None', 'param_count': 'None', 'param_base': 'None'}\n",
      "{'param_name': 'Regularization Strength', 'param_type': 'log_uni', 'param_values': 'None', 'param_min_val': -3, 'param_max_val': 1, 'param_count': 5, 'param_base': 10}\n",
      "{'param_name': 'Drop Out', 'param_type': 'uniform', 'param_values': 'None', 'param_min_val': 0.0, 'param_max_val': 0.5, 'param_count': 'None', 'param_base': 'None'}\n"
     ]
    },
    {
     "name": "stderr",
     "output_type": "stream",
     "text": [
      "127.0.0.1 - - [09/Mar/2021 18:09:42] \"\u001b[37mPOST /_dash-update-component HTTP/1.1\u001b[0m\" 200 -\n"
     ]
    },
    {
     "name": "stdout",
     "output_type": "stream",
     "text": [
      "Button has been clicked.\n",
      "{'param_name': 'Learning Rate', 'param_type': 'log_uni', 'param_values': 'None', 'param_min_val': -4, 'param_max_val': 1, 'param_count': 6, 'param_base': 10}\n",
      "{'param_name': 'Batch Size', 'param_type': 'log_uni', 'param_values': 'None', 'param_min_val': 5, 'param_max_val': 8, 'param_count': 4, 'param_base': 2}\n",
      "{'param_name': 'Regularization Type', 'param_type': 'categorical', 'param_values': 'l1,l2', 'param_min_val': 'None', 'param_max_val': 'None', 'param_count': 'None', 'param_base': 'None'}\n",
      "{'param_name': 'Regularization Strength', 'param_type': 'log_uni', 'param_values': 'None', 'param_min_val': -3, 'param_max_val': 1, 'param_count': 5, 'param_base': 10}\n"
     ]
    },
    {
     "name": "stderr",
     "output_type": "stream",
     "text": [
      "127.0.0.1 - - [09/Mar/2021 18:09:45] \"\u001b[37mPOST /_dash-update-component HTTP/1.1\u001b[0m\" 200 -\n"
     ]
    },
    {
     "name": "stdout",
     "output_type": "stream",
     "text": [
      "Button has been clicked.\n",
      "{'param_name': 'Learning Rate', 'param_type': 'log_uni', 'param_values': 'None', 'param_min_val': -4, 'param_max_val': 1, 'param_count': 6, 'param_base': 10}\n",
      "{'param_name': 'Batch Size', 'param_type': 'log_uni', 'param_values': 'None', 'param_min_val': 5, 'param_max_val': 8, 'param_count': 4, 'param_base': 2}\n",
      "{'param_name': 'Regularization Type', 'param_type': 'categorical', 'param_values': 'l1,l2', 'param_min_val': 'None', 'param_max_val': 'None', 'param_count': 'None', 'param_base': 'None'}\n",
      "{'param_name': 'Regularization Strength', 'param_type': 'log_uni', 'param_values': 'None', 'param_min_val': -3, 'param_max_val': 1, 'param_count': 5, 'param_base': 10}\n",
      "{'param_name': 'Drop Out', 'param_type': 'uniform', 'param_values': 'None', 'param_min_val': 0.0, 'param_max_val': 0.5, 'param_count': 'None', 'param_base': 'None'}\n"
     ]
    },
    {
     "name": "stderr",
     "output_type": "stream",
     "text": [
      "127.0.0.1 - - [09/Mar/2021 18:10:03] \"\u001b[37mGET / HTTP/1.1\u001b[0m\" 200 -\n",
      "127.0.0.1 - - [09/Mar/2021 18:10:03] \"\u001b[37mGET /style.css HTTP/1.1\u001b[0m\" 200 -\n",
      "127.0.0.1 - - [09/Mar/2021 18:10:03] \"\u001b[37mGET /_dash-dependencies HTTP/1.1\u001b[0m\" 200 -\n",
      "127.0.0.1 - - [09/Mar/2021 18:10:03] \"\u001b[37mGET /_dash-layout HTTP/1.1\u001b[0m\" 200 -\n",
      "127.0.0.1 - - [09/Mar/2021 18:10:03] \"\u001b[37mGET /_favicon.ico?v=1.19.0 HTTP/1.1\u001b[0m\" 200 -\n",
      "127.0.0.1 - - [09/Mar/2021 18:10:04] \"\u001b[37mPOST /_dash-update-component HTTP/1.1\u001b[0m\" 200 -\n",
      "127.0.0.1 - - [09/Mar/2021 18:10:04] \"\u001b[37mPOST /_dash-update-component HTTP/1.1\u001b[0m\" 200 -\n",
      "127.0.0.1 - - [09/Mar/2021 18:10:04] \"\u001b[37mPOST /_dash-update-component HTTP/1.1\u001b[0m\" 200 -\n"
     ]
    },
    {
     "name": "stdout",
     "output_type": "stream",
     "text": [
      "Button has been clicked.\n",
      "Button has been clicked.\n"
     ]
    },
    {
     "name": "stderr",
     "output_type": "stream",
     "text": [
      "127.0.0.1 - - [09/Mar/2021 18:10:17] \"\u001b[37mPOST /_dash-update-component HTTP/1.1\u001b[0m\" 200 -\n"
     ]
    },
    {
     "name": "stdout",
     "output_type": "stream",
     "text": [
      "Button has been clicked.\n",
      "{'param_name': 'Learning Rate', 'param_type': 'log_uni', 'param_values': 'None', 'param_min_val': -4, 'param_max_val': 1, 'param_count': 6, 'param_base': 10}\n",
      "{'param_name': 'Batch Size', 'param_type': 'log_uni', 'param_values': 'None', 'param_min_val': 5, 'param_max_val': 8, 'param_count': 4, 'param_base': 2}\n",
      "{'param_name': 'Drop Out', 'param_type': 'uniform', 'param_values': 'None', 'param_min_val': 0.0, 'param_max_val': 0.5, 'param_count': 'None', 'param_base': 'None'}\n"
     ]
    },
    {
     "name": "stderr",
     "output_type": "stream",
     "text": [
      "127.0.0.1 - - [09/Mar/2021 18:10:18] \"\u001b[37mGET / HTTP/1.1\u001b[0m\" 200 -\n",
      "127.0.0.1 - - [09/Mar/2021 18:10:18] \"\u001b[37mGET /style.css HTTP/1.1\u001b[0m\" 200 -\n",
      "127.0.0.1 - - [09/Mar/2021 18:10:18] \"\u001b[37mGET /_dash-dependencies HTTP/1.1\u001b[0m\" 200 -\n",
      "127.0.0.1 - - [09/Mar/2021 18:10:18] \"\u001b[37mGET /_dash-layout HTTP/1.1\u001b[0m\" 200 -\n",
      "127.0.0.1 - - [09/Mar/2021 18:10:18] \"\u001b[37mGET /_favicon.ico?v=1.19.0 HTTP/1.1\u001b[0m\" 200 -\n",
      "127.0.0.1 - - [09/Mar/2021 18:10:18] \"\u001b[37mPOST /_dash-update-component HTTP/1.1\u001b[0m\" 200 -\n",
      "127.0.0.1 - - [09/Mar/2021 18:10:18] \"\u001b[37mPOST /_dash-update-component HTTP/1.1\u001b[0m\" 200 -\n",
      "127.0.0.1 - - [09/Mar/2021 18:10:18] \"\u001b[37mPOST /_dash-update-component HTTP/1.1\u001b[0m\" 200 -\n"
     ]
    },
    {
     "name": "stdout",
     "output_type": "stream",
     "text": [
      "Button has been clicked.\n",
      "Button has been clicked.\n"
     ]
    },
    {
     "name": "stderr",
     "output_type": "stream",
     "text": [
      "127.0.0.1 - - [09/Mar/2021 18:14:22] \"\u001b[37mPOST /_dash-update-component HTTP/1.1\u001b[0m\" 200 -\n"
     ]
    },
    {
     "name": "stdout",
     "output_type": "stream",
     "text": [
      "Button has been clicked.\n",
      "{'param_name': 'Learning Rate', 'param_type': 'log_uni', 'param_values': 'None', 'param_min_val': -4, 'param_max_val': 1, 'param_count': 6, 'param_base': 10}\n",
      "{'param_name': 'Batch Size', 'param_type': 'log_uni', 'param_values': 'None', 'param_min_val': 5, 'param_max_val': 8, 'param_count': 4, 'param_base': 2}\n",
      "{'param_name': 'Drop Out', 'param_type': 'uniform', 'param_values': 'None', 'param_min_val': 0.0, 'param_max_val': 0.5, 'param_count': 'None', 'param_base': 'None'}\n"
     ]
    }
   ],
   "source": [
    "if __name__ == '__main__':\n",
    "    app.run_server(debug=False, port=8051)"
   ]
  },
  {
   "cell_type": "code",
   "execution_count": null,
   "metadata": {},
   "outputs": [],
   "source": [
    "[{'props': {\n",
    "    'children': [\n",
    "        {'props': {\n",
    "             'children': {'props': {'id': 'param_name_lr', 'type': 'string', \n",
    "             'placeholder': 'lr'}, 'type': 'Input', 'namespace': 'dash_core_components'}\n",
    "         }, \n",
    "         'type': 'Col', \n",
    "         'namespace': 'dash_bootstrap_components'}\n",
    "    ]\n",
    "  }, \n",
    "  'type': 'Row', \n",
    "  'namespace': 'dash_bootstrap_components'}, \n",
    " \n",
    " {'props': {'children': [{'props': {'children': {'props': {'id': 'param_name_penalty', 'type': 'string', \n",
    "    'placeholder': 'penalty'}, 'type': 'Input', 'namespace': 'dash_core_components'}}, 'type': 'Col', \n",
    "    'namespace': 'dash_bootstrap_components'}]}, 'type': 'Row', 'namespace': 'dash_bootstrap_components'}, \n",
    " {'props': {'children': [{'props': {'children': {'props': {'id': 'param_name_C', 'type': 'string', 'placeholder': 'C'},\n",
    "    'type': 'Input', 'namespace': 'dash_core_components'}}, 'type': 'Col', 'namespace': 'dash_bootstrap_components'}]},\n",
    "  'type': 'Row', 'namespace': 'dash_bootstrap_components'}]"
   ]
  },
  {
   "cell_type": "code",
   "execution_count": null,
   "metadata": {},
   "outputs": [],
   "source": []
  },
  {
   "cell_type": "markdown",
   "metadata": {},
   "source": [
    "## Try requests"
   ]
  },
  {
   "cell_type": "code",
   "execution_count": 15,
   "metadata": {},
   "outputs": [],
   "source": [
    "script_post_url = \"http://localhost:8889/api/scripts/upload\"\n",
    "with open('model_gen_script.py', 'rb') as f:\n",
    "    r = requests.post(script_post_url, files={'file': f})"
   ]
  },
  {
   "cell_type": "code",
   "execution_count": 17,
   "metadata": {},
   "outputs": [
    {
     "data": {
      "text/plain": [
       "<Response [201]>"
      ]
     },
     "execution_count": 17,
     "metadata": {},
     "output_type": "execute_result"
    }
   ],
   "source": [
    "r"
   ]
  },
  {
   "cell_type": "markdown",
   "metadata": {},
   "source": [
    "## Original Sample Page"
   ]
  },
  {
   "cell_type": "code",
   "execution_count": 12,
   "metadata": {},
   "outputs": [
    {
     "name": "stdout",
     "output_type": "stream",
     "text": [
      "Dash is running on http://127.0.0.1:8051/\n",
      "\n",
      "Dash is running on http://127.0.0.1:8051/\n",
      "\n",
      " * Serving Flask app \"__main__\" (lazy loading)\n",
      " * Environment: production\n",
      "   WARNING: This is a development server. Do not use it in a production deployment.\n",
      "   Use a production WSGI server instead.\n",
      " * Debug mode: off\n"
     ]
    },
    {
     "name": "stderr",
     "output_type": "stream",
     "text": [
      " * Running on http://127.0.0.1:8051/ (Press CTRL+C to quit)\n",
      "127.0.0.1 - - [23/Feb/2021 21:58:02] \"\u001b[37mGET / HTTP/1.1\u001b[0m\" 200 -\n",
      "127.0.0.1 - - [23/Feb/2021 21:58:02] \"\u001b[37mGET /_dash-layout HTTP/1.1\u001b[0m\" 200 -\n",
      "127.0.0.1 - - [23/Feb/2021 21:58:02] \"\u001b[37mGET /_dash-dependencies HTTP/1.1\u001b[0m\" 200 -\n",
      "127.0.0.1 - - [23/Feb/2021 21:58:02] \"\u001b[37mGET /_favicon.ico?v=1.19.0 HTTP/1.1\u001b[0m\" 200 -\n"
     ]
    }
   ],
   "source": [
    "import dash\n",
    "import dash_html_components as html\n",
    "import dash_table\n",
    "import pandas as pd\n",
    "from collections import OrderedDict\n",
    "\n",
    "\n",
    "app = dash.Dash(__name__)\n",
    "\n",
    "df = pd.DataFrame(OrderedDict([\n",
    "    ('climate', ['Sunny', 'Snowy', 'Sunny', 'Rainy']),\n",
    "    ('temperature', [13, 43, 50, 30]),\n",
    "    ('city', ['NYC', 'Montreal', 'Miami', 'NYC'])\n",
    "]))\n",
    "\n",
    "\n",
    "app.layout = html.Div([\n",
    "    dash_table.DataTable(\n",
    "        id='table-dropdown',\n",
    "        data=df.to_dict('records'),\n",
    "        columns=[\n",
    "            {'id': 'climate', 'name': 'climate', 'presentation': 'dropdown'},\n",
    "            {'id': 'temperature', 'name': 'temperature'},\n",
    "            {'id': 'city', 'name': 'city', 'presentation': 'dropdown'},\n",
    "        ],\n",
    "\n",
    "        editable=True,\n",
    "        dropdown={\n",
    "            'climate': {\n",
    "                'options': [\n",
    "                    {'label': i, 'value': i}\n",
    "                    for i in df['climate'].unique()\n",
    "                ]\n",
    "            },\n",
    "            'city': {\n",
    "                 'options': [\n",
    "                    {'label': i, 'value': i}\n",
    "                    for i in df['city'].unique()\n",
    "                ]\n",
    "            }\n",
    "        }\n",
    "    ),\n",
    "    html.Div(id='table-dropdown-container')\n",
    "])\n",
    "\n",
    "\n",
    "if __name__ == '__main__':\n",
    "    app.run_server(debug=False, port=8051)"
   ]
  },
  {
   "cell_type": "code",
   "execution_count": null,
   "metadata": {},
   "outputs": [],
   "source": []
  },
  {
   "cell_type": "markdown",
   "metadata": {},
   "source": [
    "## Sample Data frame"
   ]
  },
  {
   "cell_type": "code",
   "execution_count": 3,
   "metadata": {},
   "outputs": [],
   "source": [
    "df = pd.DataFrame(OrderedDict([\n",
    "    ('Action', ['Sunny', 'Snowy']),\n",
    "    ('Model Name', ['Model 1','Model 2']),\n",
    "    ('Parameter', ['0.1', '0.01'])\n",
    "]))"
   ]
  },
  {
   "cell_type": "code",
   "execution_count": 4,
   "metadata": {
    "scrolled": true
   },
   "outputs": [
    {
     "data": {
      "text/plain": [
       "[{'Action': 'Sunny', 'Model Name': 'Model 1', 'Parameter': '0.1'},\n",
       " {'Action': 'Snowy', 'Model Name': 'Model 2', 'Parameter': '0.01'}]"
      ]
     },
     "execution_count": 4,
     "metadata": {},
     "output_type": "execute_result"
    }
   ],
   "source": [
    "df.to_dict('records')"
   ]
  },
  {
   "cell_type": "code",
   "execution_count": null,
   "metadata": {},
   "outputs": [],
   "source": []
  },
  {
   "cell_type": "code",
   "execution_count": null,
   "metadata": {},
   "outputs": [],
   "source": []
  },
  {
   "cell_type": "code",
   "execution_count": null,
   "metadata": {},
   "outputs": [],
   "source": [
    "@app.callback(\n",
    "    Output(component_id='datatable-interactivity', component_property='data'),\n",
    "    [Input(component_id='add_model', component_property='n_clicks')],\n",
    "    [State('datatable-interactivity', 'data')]\n",
    ")\n",
    "def add_model(n_clicks, data):\n",
    "    print('Button has been clicked.')\n",
    "    \n",
    "    if n_clicks > 0:\n",
    "        data.append({'Act': 'Add', 'Name': f'Model {len(data)+1}', 'Param': 'input later'})\n",
    "\n",
    "    return data"
   ]
  }
 ],
 "metadata": {
  "kernelspec": {
   "display_name": "Python 3",
   "language": "python",
   "name": "python3"
  },
  "language_info": {
   "codemirror_mode": {
    "name": "ipython",
    "version": 3
   },
   "file_extension": ".py",
   "mimetype": "text/x-python",
   "name": "python",
   "nbconvert_exporter": "python",
   "pygments_lexer": "ipython3",
   "version": "3.7.6"
  }
 },
 "nbformat": 4,
 "nbformat_minor": 4
}
